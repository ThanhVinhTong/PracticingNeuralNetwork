{
  "cells": [
    {
      "cell_type": "code",
      "execution_count": null,
      "metadata": {
        "id": "8fK7W1JGAD6r"
      },
      "outputs": [],
      "source": [
        "import torch\n",
        "import torchvision\n",
        "import torchvision.transforms as transforms\n",
        "import numpy as np\n",
        "import matplotlib.pyplot as plt\n",
        "import torch.nn as nn\n",
        "import torch.nn.functional as f\n",
        "from torchvision import models\n",
        "from torch.nn.modules.activation import ReLU\n",
        "from torchvision.transforms.transforms import Normalize\n",
        "\n",
        "device = torch.device('cuda:0')"
      ]
    },
    {
      "cell_type": "code",
      "source": [
        "transform = transforms.Compose(\n",
        "    [ transforms.Resize(256),\n",
        "      transforms.CenterCrop(224),\n",
        "      transforms.ToTensor(),\n",
        "      transforms.Normalize(mean=[0.485, 0.456, 0.406],std=[0.229, 0.224, 0.225])\n",
        "    ]\n",
        ")\n",
        "\n",
        "train_transform = transforms.Compose([\n",
        "        transforms.RandomResizedCrop(size=256),\n",
        "        transforms.RandomRotation(degrees=15),\n",
        "        transforms.RandomHorizontalFlip(),\n",
        "        transforms.CenterCrop(size=224),\n",
        "        transforms.ToTensor(),\n",
        "        transforms.Normalize([0.485, 0.456, 0.406], [0.229, 0.224, 0.225])\n",
        "    ])\n",
        "\n",
        "batch_size = 64\n",
        "\n",
        "trainset = torchvision.datasets.CIFAR10(root='./data', train=True, download=True, transform=transform)\n",
        "trainloader = torch.utils.data.DataLoader(trainset, batch_size=batch_size, shuffle=True, num_workers=2)\n",
        "\n",
        "testset = torchvision.datasets.CIFAR10(root='./data', train=False, download=True, transform=transform)\n",
        "testloader = torch.utils.data.DataLoader(testset, batch_size=batch_size, shuffle=False, num_workers=2)\n",
        "\n",
        "classes = ('plane', 'car', 'bird', 'cat',\n",
        "           'deer', 'dog', 'frog', 'horse', 'ship', 'truck')"
      ],
      "metadata": {
        "id": "faKnGzV1DF5q",
        "colab": {
          "base_uri": "https://localhost:8080/"
        },
        "outputId": "9f3f1450-7f53-476f-d119-1d16e837f95d"
      },
      "execution_count": null,
      "outputs": [
        {
          "output_type": "stream",
          "name": "stdout",
          "text": [
            "Files already downloaded and verified\n",
            "Files already downloaded and verified\n"
          ]
        }
      ]
    },
    {
      "cell_type": "code",
      "source": [
        "resnet = models.resnet50(pretrained = True)\n",
        "resnet = resnet.to(device)\n",
        "for param in resnet.parameters():\n",
        "  param.required_grad = False\n",
        "resnet.fc"
      ],
      "metadata": {
        "id": "9x7KBY0QOtZm",
        "colab": {
          "base_uri": "https://localhost:8080/"
        },
        "outputId": "b2720e38-3a9f-435a-f7af-6522e9393eee"
      },
      "execution_count": null,
      "outputs": [
        {
          "output_type": "stream",
          "name": "stderr",
          "text": [
            "/usr/local/lib/python3.7/dist-packages/torchvision/models/_utils.py:209: UserWarning: The parameter 'pretrained' is deprecated since 0.13 and will be removed in 0.15, please use 'weights' instead.\n",
            "  f\"The parameter '{pretrained_param}' is deprecated since 0.13 and will be removed in 0.15, \"\n",
            "/usr/local/lib/python3.7/dist-packages/torchvision/models/_utils.py:223: UserWarning: Arguments other than a weight enum or `None` for 'weights' are deprecated since 0.13 and will be removed in 0.15. The current behavior is equivalent to passing `weights=ResNet50_Weights.IMAGENET1K_V1`. You can also use `weights=ResNet50_Weights.DEFAULT` to get the most up-to-date weights.\n",
            "  warnings.warn(msg)\n"
          ]
        },
        {
          "output_type": "execute_result",
          "data": {
            "text/plain": [
              "Linear(in_features=2048, out_features=1000, bias=True)"
            ]
          },
          "metadata": {},
          "execution_count": 3
        }
      ]
    },
    {
      "cell_type": "code",
      "source": [
        "fc_resnet_in_features = resnet.fc.in_features\n",
        "\n",
        "resnet.fc = nn.Sequential(\n",
        "    nn.Linear(fc_resnet_in_features, 256),\n",
        "    nn.ReLU(),\n",
        "    nn.Dropout(0.4),\n",
        "    nn.Linear(256, 10),\n",
        "    nn.Softmax(dim=1)\n",
        ")\n",
        "\n",
        "resnet = resnet.to(device)"
      ],
      "metadata": {
        "id": "ykZ-XCzUXRNk"
      },
      "execution_count": null,
      "outputs": []
    },
    {
      "cell_type": "code",
      "source": [
        "import torch.optim as optim\n",
        "\n",
        "criterion = nn.CrossEntropyLoss()\n",
        "optimizer = optim.Adam(resnet.parameters(), lr= 0.005)\n",
        "scheduler = optim.lr_scheduler.MultiStepLR(optimizer, milestones=[10,20], gamma=0.1)"
      ],
      "metadata": {
        "id": "AZeJAlZeK-F7"
      },
      "execution_count": null,
      "outputs": []
    },
    {
      "cell_type": "code",
      "source": [
        "epochs = 100"
      ],
      "metadata": {
        "id": "tYG2nLvrg-GI"
      },
      "execution_count": null,
      "outputs": []
    },
    {
      "cell_type": "code",
      "source": [
        "trainloader"
      ],
      "metadata": {
        "id": "liJXcto6hhxh",
        "colab": {
          "base_uri": "https://localhost:8080/"
        },
        "outputId": "4252ffa2-3a04-4104-883d-6333f6d454c3"
      },
      "execution_count": null,
      "outputs": [
        {
          "output_type": "execute_result",
          "data": {
            "text/plain": [
              "<torch.utils.data.dataloader.DataLoader at 0x7fc2a9c4c9d0>"
            ]
          },
          "metadata": {},
          "execution_count": 7
        }
      ]
    },
    {
      "cell_type": "code",
      "source": [
        "val_input = None\n",
        "random_train = None\n",
        "split = 0.8"
      ],
      "metadata": {
        "id": "KPDVmJBIlZQ_"
      },
      "execution_count": null,
      "outputs": []
    },
    {
      "cell_type": "code",
      "source": [
        "def accuracy_metrics(outputs, labels):\n",
        "  new_outputs = torch.argmax(outputs, dim = 1)\n",
        "  new_outputs = new_outputs[new_outputs == labels].shape[0]\n",
        "  return new_outputs / outputs.shape[0]"
      ],
      "metadata": {
        "id": "oLyQ1fm6nf6A"
      },
      "execution_count": null,
      "outputs": []
    },
    {
      "cell_type": "code",
      "source": [
        "save_train_loss = []\n",
        "save_val_loss = []\n",
        "save_train_acc = []\n",
        "save_val_acc = []"
      ],
      "metadata": {
        "id": "cG5ElAHVsX0f"
      },
      "execution_count": null,
      "outputs": []
    },
    {
      "cell_type": "code",
      "source": [
        "len(trainloader)"
      ],
      "metadata": {
        "id": "WmgaxsiatkPI",
        "colab": {
          "base_uri": "https://localhost:8080/"
        },
        "outputId": "68e3885e-b3b3-4564-b121-e9ff805ea022"
      },
      "execution_count": null,
      "outputs": [
        {
          "output_type": "execute_result",
          "data": {
            "text/plain": [
              "782"
            ]
          },
          "metadata": {},
          "execution_count": 11
        }
      ]
    },
    {
      "cell_type": "code",
      "source": [
        "for epoch in range(epochs):\n",
        "  if epoch == 10:\n",
        "    for param in resnet.parameters():\n",
        "      param.required_grad = True\n",
        "  running_loss = 0.0\n",
        "  running_loss_val = 0.0\n",
        "  accuracy = 0.\n",
        "  accuracy_val = 0.\n",
        "  count = 0\n",
        "  for i, data in enumerate(trainloader, 0):\n",
        "    inputs, labels = data\n",
        "    split_i = int(split * inputs.shape[0])\n",
        "    inputs_val = inputs[split_i:]\n",
        "    labels_val = labels[split_i:]\n",
        "    inputs = inputs[:split_i]\n",
        "    labels = labels[:split_i]\n",
        "    inputs = inputs.to(device)\n",
        "    labels = labels.to(device)\n",
        "    inputs_val = inputs_val.to(device)\n",
        "    labels_val = labels_val.to(device)\n",
        "    random_train = np.random.permutation(inputs.shape[0])\n",
        "    inputs = inputs[random_train]\n",
        "    labels = labels[random_train]\n",
        "    optimizer.zero_grad()\n",
        "    outputs = resnet(inputs)\n",
        "    loss = criterion(outputs, labels)\n",
        "    with torch.no_grad():\n",
        "      val_outputs = resnet(inputs_val)\n",
        "      loss_val = criterion(val_outputs, labels_val)\n",
        "      count += 1\n",
        "    loss.backward()\n",
        "    optimizer.step()\n",
        "    running_loss += loss.item()\n",
        "    accuracy += accuracy_metrics(outputs, labels)\n",
        "    accuracy_val += accuracy_metrics(val_outputs, labels_val)\n",
        "    running_loss_val += loss_val.item()\n",
        "    count += 1\n",
        "    if i == len(trainloader) - 1:\n",
        "      save_train_loss.append(running_loss / len(trainloader))\n",
        "      save_val_loss.append(running_loss_val / len(trainloader))\n",
        "      save_train_acc.append(accuracy / count)\n",
        "      save_val_acc.append(accuracy_val / count)\n",
        "      print(f'Epoch {epoch + 1}  -  train loss: {running_loss / len(trainloader):.3f} -- train accuracy: {accuracy / count : .3f} --  val loss: {running_loss_val / len(trainloader):.3f} -- val accuracy: {accuracy_val / count  : .3f}')\n",
        "      running_loss = 0.0\n",
        "      running_loss_val = 0.0\n",
        "      count = 0\n",
        "      accuracy = 0.\n",
        "      accuracy_val = 0.\n",
        "  print('Finished Training')    "
      ],
      "metadata": {
        "id": "VWRDKa00OKZg"
      },
      "execution_count": null,
      "outputs": []
    },
    {
      "cell_type": "code",
      "source": [],
      "metadata": {
        "id": "lm4UvJ5vc3c9"
      },
      "execution_count": null,
      "outputs": []
    },
    {
      "cell_type": "code",
      "source": [
        "#  \"Accuracy\"\n",
        "plt.plot(save_train_acc)\n",
        "plt.plot(save_val_acc)\n",
        "plt.title('model accuracy')\n",
        "plt.ylabel('accuracy')\n",
        "plt.xlabel('epoch')\n",
        "plt.legend(['train', 'validation'], loc='upper left')\n",
        "plt.show()\n",
        "# \"Loss\"\n",
        "plt.plot(save_train_loss)\n",
        "plt.plot(save_val_loss)\n",
        "plt.title('model loss')\n",
        "plt.ylabel('loss')\n",
        "plt.xlabel('epoch')\n",
        "plt.legend(['train', 'validation'], loc='upper left')\n",
        "plt.show()"
      ],
      "metadata": {
        "id": "8oNfFs3-sSMR"
      },
      "execution_count": null,
      "outputs": []
    },
    {
      "cell_type": "code",
      "source": [
        "running_loss = 0\n",
        "accuracy = 0\n",
        "count = 0\n",
        "for i, data in enumerate(testloader, 0):\n",
        "  inputs, labels = data\n",
        "  inputs, labels = inputs.to(device), labels.to(device)\n",
        "  with torch.no_grad():\n",
        "    outputs = resnet(inputs)\n",
        "    loss = criterion(outputs, labels)\n",
        "  running_loss += loss.item()\n",
        "  accuracy += accuracy_metrics(outputs, labels)\n",
        "  count += 1\n",
        "  if i == len(testloader) - 1:\n",
        "    print(f'[{epoch + 1}, {i + 1:5d}] test loss: {running_loss / len(trainloader):.3f}')\n",
        "    print(f'[{epoch + 1}, {i + 1:5d}] test accuracy: {accuracy / count : .3f}')"
      ],
      "metadata": {
        "id": "elOLmq7BSswn"
      },
      "execution_count": null,
      "outputs": []
    }
  ],
  "metadata": {
    "colab": {
      "name": "TransferLearning_pytorch_cifar10.ipynb",
      "provenance": [],
      "collapsed_sections": [],
      "history_visible": true
    },
    "kernelspec": {
      "display_name": "Python 3",
      "name": "python3"
    },
    "language_info": {
      "name": "python"
    },
    "accelerator": "GPU",
    "gpuClass": "standard"
  },
  "nbformat": 4,
  "nbformat_minor": 0
}